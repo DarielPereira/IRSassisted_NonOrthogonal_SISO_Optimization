{
 "cells": [
  {
   "cell_type": "code",
   "id": "initial_id",
   "metadata": {
    "collapsed": true,
    "ExecuteTime": {
     "end_time": "2025-02-21T15:15:32.232538Z",
     "start_time": "2025-02-21T15:15:32.210259Z"
    }
   },
   "source": [
    "import numpy as np\n",
    "import numpy.linalg as alg\n",
    "\n",
    "# Define the matrix H\n",
    "H = np.array([[0.1, 0.15, 0.40],\n",
    "              [0.3, 0.45, 1.20]])\n",
    "\n",
    "print(alg.norm(H[1, :]))\n",
    "\n",
    "\n"
   ],
   "outputs": [
    {
     "name": "stdout",
     "output_type": "stream",
     "text": [
      "1.3162446581088183\n"
     ]
    }
   ],
   "execution_count": 27
  },
  {
   "metadata": {
    "ExecuteTime": {
     "end_time": "2025-02-21T15:15:34.587996Z",
     "start_time": "2025-02-21T15:15:34.582481Z"
    }
   },
   "cell_type": "code",
   "source": [
    "F = np.round(H.T/alg.norm(H, \"fro\"), 4)\n",
    "x = np.array([0.4, 0.2, 0.1])\n",
    "n = np.array([0.01, 0.03, 0.01])"
   ],
   "id": "ae28d37f70877cd1",
   "outputs": [],
   "execution_count": 28
  },
  {
   "metadata": {
    "ExecuteTime": {
     "end_time": "2025-02-21T19:57:01.775449Z",
     "start_time": "2025-02-21T19:57:01.745498Z"
    }
   },
   "cell_type": "code",
   "source": "F\n",
   "id": "fa7529f9fd949480",
   "outputs": [
    {
     "data": {
      "text/plain": [
       "array([[0.0721, 0.2162],\n",
       "       [0.1081, 0.3243],\n",
       "       [0.2883, 0.8649]])"
      ]
     },
     "execution_count": 30,
     "metadata": {},
     "output_type": "execute_result"
    }
   ],
   "execution_count": 30
  },
  {
   "metadata": {
    "ExecuteTime": {
     "end_time": "2025-02-20T20:19:33.199635Z",
     "start_time": "2025-02-20T20:19:33.195670Z"
    }
   },
   "cell_type": "code",
   "outputs": [],
   "execution_count": 12,
   "source": [
    "\n",
    "y = F @ H @x + n"
   ],
   "id": "c7ac678f8cf7bb79"
  },
  {
   "metadata": {
    "ExecuteTime": {
     "end_time": "2025-02-20T20:19:39.613969Z",
     "start_time": "2025-02-20T20:19:39.607933Z"
    }
   },
   "cell_type": "code",
   "source": "y",
   "id": "36bd33f7d454dca1",
   "outputs": [
    {
     "data": {
      "text/plain": [
       "array([0.0892825 , 0.14892375, 0.32712999])"
      ]
     },
     "execution_count": 13,
     "metadata": {},
     "output_type": "execute_result"
    }
   ],
   "execution_count": 13
  },
  {
   "metadata": {
    "ExecuteTime": {
     "end_time": "2025-02-21T19:57:35.655438Z",
     "start_time": "2025-02-21T19:57:35.641680Z"
    }
   },
   "cell_type": "code",
   "source": "H @x",
   "id": "97ed25f33650516d",
   "outputs": [
    {
     "data": {
      "text/plain": [
       "array([0.11, 0.33])"
      ]
     },
     "execution_count": 31,
     "metadata": {},
     "output_type": "execute_result"
    }
   ],
   "execution_count": 31
  },
  {
   "metadata": {
    "ExecuteTime": {
     "end_time": "2025-02-21T20:00:13.744272Z",
     "start_time": "2025-02-21T20:00:13.738851Z"
    }
   },
   "cell_type": "code",
   "source": "F @ H @x+n\n",
   "id": "60208e6cab5e46b",
   "outputs": [
    {
     "data": {
      "text/plain": [
       "array([0.089277, 0.14891 , 0.32713 ])"
      ]
     },
     "execution_count": 35,
     "metadata": {},
     "output_type": "execute_result"
    }
   ],
   "execution_count": 35
  },
  {
   "metadata": {
    "ExecuteTime": {
     "end_time": "2025-02-21T20:02:31.243885Z",
     "start_time": "2025-02-21T20:02:31.237683Z"
    }
   },
   "cell_type": "code",
   "source": "F[:, 0] / F[:, 1]",
   "id": "6951d8b63eb22057",
   "outputs": [
    {
     "data": {
      "text/plain": [
       "array([0.33348751, 0.33333333, 0.33333333])"
      ]
     },
     "execution_count": 36,
     "metadata": {},
     "output_type": "execute_result"
    }
   ],
   "execution_count": 36
  },
  {
   "metadata": {
    "ExecuteTime": {
     "end_time": "2025-02-20T20:45:15.135482Z",
     "start_time": "2025-02-20T20:45:15.129865Z"
    }
   },
   "cell_type": "code",
   "source": "H @ x",
   "id": "468e5857292da262",
   "outputs": [
    {
     "data": {
      "text/plain": [
       "array([0.11, 0.33])"
      ]
     },
     "execution_count": 22,
     "metadata": {},
     "output_type": "execute_result"
    }
   ],
   "execution_count": 22
  },
  {
   "metadata": {
    "ExecuteTime": {
     "end_time": "2025-02-20T20:48:34.008267Z",
     "start_time": "2025-02-20T20:48:34.004919Z"
    }
   },
   "cell_type": "code",
   "source": "y_ = np.round(y, 2)",
   "id": "6a282463e51166a",
   "outputs": [],
   "execution_count": 23
  },
  {
   "metadata": {
    "ExecuteTime": {
     "end_time": "2025-02-20T20:48:37.689107Z",
     "start_time": "2025-02-20T20:48:37.684548Z"
    }
   },
   "cell_type": "code",
   "source": "y_",
   "id": "76beb457ac948b3f",
   "outputs": [
    {
     "data": {
      "text/plain": [
       "array([0.09, 0.15, 0.33])"
      ]
     },
     "execution_count": 24,
     "metadata": {},
     "output_type": "execute_result"
    }
   ],
   "execution_count": 24
  },
  {
   "metadata": {
    "ExecuteTime": {
     "end_time": "2025-02-20T20:49:05.825280Z",
     "start_time": "2025-02-20T20:49:05.810464Z"
    }
   },
   "cell_type": "code",
   "source": "alg.MSE(x, y_)",
   "id": "9cb2555aac7b4a41",
   "outputs": [
    {
     "ename": "AttributeError",
     "evalue": "module 'numpy.linalg' has no attribute 'MSE'",
     "output_type": "error",
     "traceback": [
      "\u001B[1;31m---------------------------------------------------------------------------\u001B[0m",
      "\u001B[1;31mAttributeError\u001B[0m                            Traceback (most recent call last)",
      "Cell \u001B[1;32mIn[25], line 1\u001B[0m\n\u001B[1;32m----> 1\u001B[0m alg\u001B[38;5;241m.\u001B[39mMSE(x, y_)\n",
      "\u001B[1;31mAttributeError\u001B[0m: module 'numpy.linalg' has no attribute 'MSE'"
     ]
    }
   ],
   "execution_count": 25
  },
  {
   "metadata": {
    "ExecuteTime": {
     "end_time": "2025-02-20T20:49:35.241578Z",
     "start_time": "2025-02-20T20:49:35.235869Z"
    }
   },
   "cell_type": "code",
   "source": "np.mean((x - y_)**2)",
   "id": "b8a0346a0d995465",
   "outputs": [
    {
     "data": {
      "text/plain": [
       "0.05050000000000001"
      ]
     },
     "execution_count": 26,
     "metadata": {},
     "output_type": "execute_result"
    }
   ],
   "execution_count": 26
  },
  {
   "metadata": {},
   "cell_type": "code",
   "outputs": [],
   "execution_count": null,
   "source": "",
   "id": "78285f5fdc825d42"
  }
 ],
 "metadata": {
  "kernelspec": {
   "display_name": "Python 3",
   "language": "python",
   "name": "python3"
  },
  "language_info": {
   "codemirror_mode": {
    "name": "ipython",
    "version": 2
   },
   "file_extension": ".py",
   "mimetype": "text/x-python",
   "name": "python",
   "nbconvert_exporter": "python",
   "pygments_lexer": "ipython2",
   "version": "2.7.6"
  }
 },
 "nbformat": 4,
 "nbformat_minor": 5
}
